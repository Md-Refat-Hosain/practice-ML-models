{
  "nbformat": 4,
  "nbformat_minor": 0,
  "metadata": {
    "colab": {
      "provenance": [],
      "mount_file_id": "1EXTN2fi1YrZZl5MIcJTAW52tuig7oSkJ",
      "authorship_tag": "ABX9TyPHFWbTa0mGebwSiNkesGWF",
      "include_colab_link": true
    },
    "kernelspec": {
      "name": "python3",
      "display_name": "Python 3"
    },
    "language_info": {
      "name": "python"
    }
  },
  "cells": [
    {
      "cell_type": "markdown",
      "metadata": {
        "id": "view-in-github",
        "colab_type": "text"
      },
      "source": [
        "<a href=\"https://colab.research.google.com/github/Md-Refat-Hosain/practice-ML-models/blob/main/Iris_classify_with_SVM_(cdm).ipynb\" target=\"_parent\"><img src=\"https://colab.research.google.com/assets/colab-badge.svg\" alt=\"Open In Colab\"/></a>"
      ]
    },
    {
      "cell_type": "code",
      "execution_count": null,
      "metadata": {
        "id": "zLO632wIkVbi"
      },
      "outputs": [],
      "source": [
        "# Iris data set classify with SVM"
      ]
    },
    {
      "cell_type": "code",
      "source": [
        "# Import all the libraries"
      ],
      "metadata": {
        "id": "W8qHEM28kyCj"
      },
      "execution_count": null,
      "outputs": []
    },
    {
      "cell_type": "code",
      "source": [
        "import pandas as pd\n",
        "import numpy as np\n",
        "import matplotlib.pyplot as plt\n",
        "import seaborn as sbn\n",
        "import statistics as st\n",
        "\n",
        "# Libraries For Text\n",
        "\n",
        "import nltk\n",
        "from nltk.tokenize import word_tokenize\n",
        "from nltk.corpus import stopwords\n",
        "from nltk.stem import PorterStemmer\n",
        "\n",
        "nltk.download('punkt')\n",
        "nltk.download('stopwords')\n",
        "\n",
        "\n",
        "\n",
        "from sklearn.linear_model import LinearRegression\n",
        "from sklearn.model_selection import train_test_split\n",
        "from sklearn.metrics import mean_squared_error\n",
        "from sklearn.preprocessing import PolynomialFeatures\n",
        "from sklearn.metrics import confusion_matrix\n",
        "%matplotlib inline"
      ],
      "metadata": {
        "colab": {
          "base_uri": "https://localhost:8080/"
        },
        "id": "oqJGb8ezk2pW",
        "outputId": "0629a9cd-d6ca-47a8-c8fc-b75e41f7396f"
      },
      "execution_count": 1,
      "outputs": [
        {
          "output_type": "stream",
          "name": "stderr",
          "text": [
            "[nltk_data] Downloading package punkt to /root/nltk_data...\n",
            "[nltk_data]   Unzipping tokenizers/punkt.zip.\n",
            "[nltk_data] Downloading package stopwords to /root/nltk_data...\n",
            "[nltk_data]   Unzipping corpora/stopwords.zip.\n"
          ]
        }
      ]
    },
    {
      "cell_type": "code",
      "source": [
        "# import Iris dataset"
      ],
      "metadata": {
        "id": "pc5U7n-Mk7ts"
      },
      "execution_count": null,
      "outputs": []
    },
    {
      "cell_type": "code",
      "source": [
        "from sklearn import  datasets"
      ],
      "metadata": {
        "id": "9CYhLABElDQx"
      },
      "execution_count": 2,
      "outputs": []
    },
    {
      "cell_type": "code",
      "source": [
        "iris = datasets.load_iris()"
      ],
      "metadata": {
        "id": "7cC5vI8ilKZX"
      },
      "execution_count": 3,
      "outputs": []
    },
    {
      "cell_type": "code",
      "source": [
        "# divide the data into 2 variables"
      ],
      "metadata": {
        "id": "34uGgKkmmuO3"
      },
      "execution_count": null,
      "outputs": []
    },
    {
      "cell_type": "code",
      "source": [
        "X = iris.data\n",
        "y = iris.target"
      ],
      "metadata": {
        "id": "kD25wNEVmUaj"
      },
      "execution_count": 4,
      "outputs": []
    },
    {
      "cell_type": "code",
      "source": [
        "# split data for train and test"
      ],
      "metadata": {
        "id": "zvmwuYcCmz5g"
      },
      "execution_count": null,
      "outputs": []
    },
    {
      "cell_type": "code",
      "source": [
        "X_train , X_test , y_train , y_test = train_test_split(X , y , test_size= .3 , random_state= 42 , stratify= y)"
      ],
      "metadata": {
        "id": "cXlD4CVnmaLC"
      },
      "execution_count": 5,
      "outputs": []
    },
    {
      "cell_type": "code",
      "source": [
        "# import SVC and CONFUSION MATRICS"
      ],
      "metadata": {
        "id": "P-IHndzzm3yv"
      },
      "execution_count": null,
      "outputs": []
    },
    {
      "cell_type": "code",
      "source": [
        "from sklearn.svm import SVC\n",
        "from sklearn.metrics import confusion_matrix"
      ],
      "metadata": {
        "id": "6o6NQH8XobBJ"
      },
      "execution_count": 6,
      "outputs": []
    },
    {
      "cell_type": "code",
      "source": [
        "# with the 'rbf' kernel and gamma 1.0"
      ],
      "metadata": {
        "id": "yxGd0g18VRqc"
      },
      "execution_count": null,
      "outputs": []
    },
    {
      "cell_type": "code",
      "source": [
        "svc = SVC(kernel = 'rbf' , gamma = 1.0)\n",
        "\n",
        "svc.fit(X_train , y_train)\n",
        "y_preds = svc.predict(X_test)"
      ],
      "metadata": {
        "id": "RrX0eQlKR8_S"
      },
      "execution_count": 7,
      "outputs": []
    },
    {
      "cell_type": "code",
      "source": [
        "cm_rbf01 = confusion_matrix(y_test , y_preds)\n",
        "cm_rbf01"
      ],
      "metadata": {
        "colab": {
          "base_uri": "https://localhost:8080/"
        },
        "id": "M2Ic41qLSQow",
        "outputId": "c8ca15ab-d30c-4290-bd57-42ea0db9b050"
      },
      "execution_count": 8,
      "outputs": [
        {
          "output_type": "execute_result",
          "data": {
            "text/plain": [
              "array([[15,  0,  0],\n",
              "       [ 0, 14,  1],\n",
              "       [ 0,  1, 14]])"
            ]
          },
          "metadata": {},
          "execution_count": 8
        }
      ]
    },
    {
      "cell_type": "code",
      "source": [
        "# with the 'rbf' kernel and gamma 1.0 (2 fault prediction)"
      ],
      "metadata": {
        "id": "qKA7mgSsV1oZ"
      },
      "execution_count": null,
      "outputs": []
    },
    {
      "cell_type": "code",
      "source": [
        "svc = SVC(kernel = 'rbf' , gamma = 10.0)\n",
        "\n",
        "svc.fit(X_train , y_train)\n",
        "y_preds = svc.predict(X_test)\n",
        "\n",
        "cm_rbf10 = confusion_matrix(y_test , y_preds)\n",
        "cm_rbf10"
      ],
      "metadata": {
        "colab": {
          "base_uri": "https://localhost:8080/"
        },
        "id": "4K3IL9L4VV3P",
        "outputId": "67c20398-31df-4d9a-9ea2-2d0232f0ca8b"
      },
      "execution_count": 9,
      "outputs": [
        {
          "output_type": "execute_result",
          "data": {
            "text/plain": [
              "array([[13,  0,  2],\n",
              "       [ 0, 15,  0],\n",
              "       [ 0,  1, 14]])"
            ]
          },
          "metadata": {},
          "execution_count": 9
        }
      ]
    },
    {
      "cell_type": "code",
      "source": [
        "# Linear SVC kernel (best performer with zero fault prediction)"
      ],
      "metadata": {
        "id": "ebqS5w8yWaI1"
      },
      "execution_count": null,
      "outputs": []
    },
    {
      "cell_type": "code",
      "source": [
        "svc = SVC(kernel='linear')\n",
        "svc.fit(X_train , y_train)\n",
        "y_preds = svc.predict(X_test)\n",
        "cm_linear = confusion_matrix(y_test , y_preds)\n",
        "cm_linear"
      ],
      "metadata": {
        "colab": {
          "base_uri": "https://localhost:8080/"
        },
        "id": "YKjVApK2Wcgf",
        "outputId": "d476cf61-dd99-4e5c-86a0-d287d9e34b6b"
      },
      "execution_count": 10,
      "outputs": [
        {
          "output_type": "execute_result",
          "data": {
            "text/plain": [
              "array([[15,  0,  0],\n",
              "       [ 0, 15,  0],\n",
              "       [ 0,  0, 15]])"
            ]
          },
          "metadata": {},
          "execution_count": 10
        }
      ]
    },
    {
      "cell_type": "code",
      "source": [
        " # plynomial SVC kernel (1 fault prediction)"
      ],
      "metadata": {
        "id": "MsFghesfaD02"
      },
      "execution_count": null,
      "outputs": []
    },
    {
      "cell_type": "code",
      "source": [
        "svc = SVC(kernel='poly')\n",
        "svc.fit(X_train , y_train)\n",
        "y_preds = svc.predict(X_test)\n",
        "cm_poly = confusion_matrix(y_test , y_preds)\n",
        "cm_poly"
      ],
      "metadata": {
        "colab": {
          "base_uri": "https://localhost:8080/"
        },
        "id": "OXVfc_6HaHU9",
        "outputId": "69920ff2-43c5-4db1-a8f3-8de4537624a8"
      },
      "execution_count": 11,
      "outputs": [
        {
          "output_type": "execute_result",
          "data": {
            "text/plain": [
              "array([[15,  0,  0],\n",
              "       [ 0, 14,  1],\n",
              "       [ 0,  1, 14]])"
            ]
          },
          "metadata": {},
          "execution_count": 11
        }
      ]
    },
    {
      "cell_type": "code",
      "source": [
        "# sigmoid SVC kernel (14 fault prediction , worst performer)"
      ],
      "metadata": {
        "id": "1h97ShLgaJ7q"
      },
      "execution_count": null,
      "outputs": []
    },
    {
      "cell_type": "code",
      "source": [
        "svc = SVC(kernel='sigmoid')\n",
        "svc.fit(X_train , y_train)\n",
        "y_preds = svc.predict(X_test)\n",
        "cm_sigm = confusion_matrix(y_test , y_preds)\n",
        "cm_sigm"
      ],
      "metadata": {
        "colab": {
          "base_uri": "https://localhost:8080/"
        },
        "id": "cj4d5XetaL-F",
        "outputId": "b24b1329-3a3f-4acf-afd2-87bd0708d80e"
      },
      "execution_count": 12,
      "outputs": [
        {
          "output_type": "execute_result",
          "data": {
            "text/plain": [
              "array([[ 1,  0, 14],\n",
              "       [ 8,  0,  7],\n",
              "       [14,  0,  1]])"
            ]
          },
          "metadata": {},
          "execution_count": 12
        }
      ]
    }
  ]
}